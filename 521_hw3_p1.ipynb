{
 "cells": [
  {
   "cell_type": "code",
   "execution_count": 1,
   "metadata": {},
   "outputs": [],
   "source": [
    "import os\n",
    "\n",
    "import numpy as np\n",
    "import pandas as pd"
   ]
  },
  {
   "cell_type": "code",
   "execution_count": 2,
   "metadata": {},
   "outputs": [
    {
     "data": {
      "text/html": [
       "<div>\n",
       "<style scoped>\n",
       "    .dataframe tbody tr th:only-of-type {\n",
       "        vertical-align: middle;\n",
       "    }\n",
       "\n",
       "    .dataframe tbody tr th {\n",
       "        vertical-align: top;\n",
       "    }\n",
       "\n",
       "    .dataframe thead th {\n",
       "        text-align: right;\n",
       "    }\n",
       "</style>\n",
       "<table border=\"1\" class=\"dataframe\">\n",
       "  <thead>\n",
       "    <tr style=\"text-align: right;\">\n",
       "      <th></th>\n",
       "      <th>0</th>\n",
       "      <th>1</th>\n",
       "      <th>2</th>\n",
       "      <th>3</th>\n",
       "      <th>4</th>\n",
       "      <th>5</th>\n",
       "      <th>6</th>\n",
       "      <th>7</th>\n",
       "      <th>8</th>\n",
       "      <th>9</th>\n",
       "      <th>...</th>\n",
       "      <th>480</th>\n",
       "      <th>481</th>\n",
       "      <th>482</th>\n",
       "      <th>483</th>\n",
       "      <th>484</th>\n",
       "      <th>485</th>\n",
       "      <th>486</th>\n",
       "      <th>487</th>\n",
       "      <th>488</th>\n",
       "      <th>489</th>\n",
       "    </tr>\n",
       "  </thead>\n",
       "  <tbody>\n",
       "    <tr>\n",
       "      <th>0</th>\n",
       "      <td>AA</td>\n",
       "      <td>AAPL</td>\n",
       "      <td>ABC</td>\n",
       "      <td>ABI</td>\n",
       "      <td>ABK</td>\n",
       "      <td>ABS</td>\n",
       "      <td>ABT</td>\n",
       "      <td>ACE</td>\n",
       "      <td>ACS</td>\n",
       "      <td>A</td>\n",
       "      <td>...</td>\n",
       "      <td>XEL</td>\n",
       "      <td>XL</td>\n",
       "      <td>XLNX</td>\n",
       "      <td>XOM</td>\n",
       "      <td>XRX</td>\n",
       "      <td>XTO</td>\n",
       "      <td>YHOO</td>\n",
       "      <td>YUM</td>\n",
       "      <td>ZION</td>\n",
       "      <td>ZMH</td>\n",
       "    </tr>\n",
       "  </tbody>\n",
       "</table>\n",
       "<p>1 rows × 490 columns</p>\n",
       "</div>"
      ],
      "text/plain": [
       "  0     1    2    3    4    5    6    7    8   9   ...   480 481   482  483  \\\n",
       "0  AA  AAPL  ABC  ABI  ABK  ABS  ABT  ACE  ACS   A ...   XEL  XL  XLNX  XOM   \n",
       "\n",
       "   484  485   486  487   488  489  \n",
       "0  XRX  XTO  YHOO  YUM  ZION  ZMH  \n",
       "\n",
       "[1 rows x 490 columns]"
      ]
     },
     "execution_count": 2,
     "metadata": {},
     "output_type": "execute_result"
    }
   ],
   "source": [
    "names = pd.read_csv('./stockdata/stockNames.csv', sep=',', header=None)\n",
    "names.head()"
   ]
  },
  {
   "cell_type": "code",
   "execution_count": 3,
   "metadata": {},
   "outputs": [
    {
     "data": {
      "text/plain": [
       "(490, 1000)"
      ]
     },
     "execution_count": 3,
     "metadata": {},
     "output_type": "execute_result"
    }
   ],
   "source": [
    "stockdata = pd.read_csv('./stockdata/stockData.csv', sep=',', header=None)\n",
    "stockdata = stockdata.values\n",
    "stockdata.shape"
   ]
  },
  {
   "cell_type": "markdown",
   "metadata": {},
   "source": [
    "## part a"
   ]
  },
  {
   "cell_type": "markdown",
   "metadata": {},
   "source": [
    "Pick the \"best\" single stock: max possible earnings over the course of 1000 trading days"
   ]
  },
  {
   "cell_type": "code",
   "execution_count": 4,
   "metadata": {},
   "outputs": [],
   "source": [
    "percent_return = stockdata[:, -1] / stockdata[:, 0]"
   ]
  },
  {
   "cell_type": "code",
   "execution_count": 5,
   "metadata": {},
   "outputs": [
    {
     "data": {
      "text/plain": [
       "0    COH\n",
       "Name: 112, dtype: object"
      ]
     },
     "execution_count": 5,
     "metadata": {},
     "output_type": "execute_result"
    }
   ],
   "source": [
    "best_stock = np.argmax(percent_return)\n",
    "names[best_stock]"
   ]
  },
  {
   "cell_type": "code",
   "execution_count": 6,
   "metadata": {},
   "outputs": [
    {
     "data": {
      "text/plain": [
       "(4.14, 34.43)"
      ]
     },
     "execution_count": 6,
     "metadata": {},
     "output_type": "execute_result"
    }
   ],
   "source": [
    "stockdata[best_stock, 0], stockdata[best_stock, -1]"
   ]
  },
  {
   "cell_type": "code",
   "execution_count": 7,
   "metadata": {},
   "outputs": [
    {
     "data": {
      "text/plain": [
       "8.316425120772948"
      ]
     },
     "execution_count": 7,
     "metadata": {},
     "output_type": "execute_result"
    }
   ],
   "source": [
    "percent_return[best_stock]"
   ]
  },
  {
   "cell_type": "markdown",
   "metadata": {},
   "source": [
    "Equal amount of money placed in each stock"
   ]
  },
  {
   "cell_type": "code",
   "execution_count": 8,
   "metadata": {},
   "outputs": [
    {
     "data": {
      "text/plain": [
       "1.5802565023247446"
      ]
     },
     "execution_count": 8,
     "metadata": {},
     "output_type": "execute_result"
    }
   ],
   "source": [
    "np.sum(1 / len(percent_return) * percent_return)"
   ]
  },
  {
   "cell_type": "markdown",
   "metadata": {},
   "source": [
    "CRP strategy that allocates an equal percentage of the portfolio to each stock"
   ]
  },
  {
   "cell_type": "code",
   "execution_count": 9,
   "metadata": {},
   "outputs": [
    {
     "data": {
      "text/plain": [
       "(999, 490)"
      ]
     },
     "execution_count": 9,
     "metadata": {},
     "output_type": "execute_result"
    }
   ],
   "source": [
    "percent_change = []\n",
    "for t in range(1, len(stockdata.T)):\n",
    "    percent_change.append(stockdata[:, t] / stockdata[:, t - 1])\n",
    "percent_change = np.vstack(percent_change)\n",
    "percent_change.shape"
   ]
  },
  {
   "cell_type": "code",
   "execution_count": 10,
   "metadata": {},
   "outputs": [],
   "source": [
    "def compute_earnings(alloc):\n",
    "    \"\"\"\n",
    "    Outputs the earnings over all stock data given\n",
    "    a fixed allocation of funds (i.e. CRP rebalancing\n",
    "    based on the change in earnings to maintain the\n",
    "    allocation)\n",
    "    \"\"\"\n",
    "    final_earnings = 1\n",
    "    for change in percent_change:\n",
    "        earned = np.dot(change, alloc)\n",
    "        final_earnings *= earned\n",
    "    return final_earnings"
   ]
  },
  {
   "cell_type": "code",
   "execution_count": 11,
   "metadata": {},
   "outputs": [
    {
     "data": {
      "text/plain": [
       "1.6327365103499576"
      ]
     },
     "execution_count": 11,
     "metadata": {},
     "output_type": "execute_result"
    }
   ],
   "source": [
    "compute_earnings([1 / len(stockdata)] * len(stockdata))"
   ]
  },
  {
   "cell_type": "markdown",
   "metadata": {},
   "source": [
    "## part b"
   ]
  },
  {
   "cell_type": "code",
   "execution_count": 12,
   "metadata": {},
   "outputs": [],
   "source": [
    "log_pc_change = np.zeros((len(stockdata.T) - 1, len(stockdata)))\n",
    "for t in range(1, len(stockdata.T)):\n",
    "    log_pc_change[t - 1] = np.log(stockdata[:, t] / stockdata[:, t - 1])"
   ]
  },
  {
   "cell_type": "code",
   "execution_count": 13,
   "metadata": {},
   "outputs": [],
   "source": [
    "def simplex_proj(y):\n",
    "    \"\"\"\n",
    "    implementation based on \n",
    "    https://eng.ucmerced.edu/people/wwang5/papers/SimplexProj.pdf\n",
    "    \"\"\"\n",
    "    n_features = y.shape[0]\n",
    "    u = np.sort(y)[::-1]\n",
    "    cssv = np.cumsum(u) - 1\n",
    "    ind = np.arange(n_features) + 1\n",
    "    cond = u - cssv / ind > 0\n",
    "    theta = cssv[cond][-1] / float(ind[cond][-1])\n",
    "    return np.maximum(y - theta, 0)"
   ]
  },
  {
   "cell_type": "code",
   "execution_count": 14,
   "metadata": {},
   "outputs": [],
   "source": [
    "def vectorized_gradient(single_alloc, data):\n",
    "    return np.sum(\n",
    "        np.divide(data.T,\n",
    "                  np.matmul(data, single_alloc.T)), axis=1)"
   ]
  },
  {
   "cell_type": "code",
   "execution_count": 15,
   "metadata": {},
   "outputs": [
    {
     "data": {
      "text/plain": [
       "1.0"
      ]
     },
     "execution_count": 15,
     "metadata": {},
     "output_type": "execute_result"
    }
   ],
   "source": [
    "extreme_alloc = np.zeros(490)\n",
    "extreme_alloc[0] = 1\n",
    "np.linalg.norm(simplex_proj(extreme_alloc))"
   ]
  },
  {
   "cell_type": "code",
   "execution_count": 16,
   "metadata": {},
   "outputs": [
    {
     "name": "stdout",
     "output_type": "stream",
     "text": [
      "T = 320000, eta = 0.0025\n"
     ]
    }
   ],
   "source": [
    "data = log_pc_change + 1\n",
    "_, N_stocks = data.shape\n",
    "\n",
    "D = np.sqrt(2)  # the two \"extremes\" that define D are 100% in 1 stock <-> 100% in another stock, 2-norm == sqrt(2)\n",
    "G = 1  # upper bound on the l2-norm of the gradient for any x in the simplex projection\n",
    "T = int((4 * D**2 * G**2) / (0.005**2))  # epsilon=0.005 just so this runs in a reasonable time\n",
    "grad = np.zeros((N_stocks, T)) \n",
    "alloc = np.zeros((N_stocks, T))\n",
    "alloc[:, 0] = 1 / N_stocks  # start with equal percentage in each stock\n",
    "eta = D / (G * np.sqrt(T))\n",
    "print(\"T = {0}, eta = {1}\".format(T, eta))\n",
    "for i in range(1, T):\n",
    "    grad[:,i] = vectorized_gradient(alloc[:,i-1], data)\n",
    "    upd = alloc[:,i-1] + eta*grad[:,i]  \n",
    "    alloc[:,i] = simplex_proj(upd)\n",
    "z = np.sum(alloc, axis=1) / T"
   ]
  },
  {
   "cell_type": "code",
   "execution_count": 17,
   "metadata": {},
   "outputs": [
    {
     "data": {
      "text/plain": [
       "0.9999999999999987"
      ]
     },
     "execution_count": 17,
     "metadata": {},
     "output_type": "execute_result"
    }
   ],
   "source": [
    "np.sum(z)"
   ]
  },
  {
   "cell_type": "code",
   "execution_count": 28,
   "metadata": {},
   "outputs": [],
   "source": [
    "allocation = ','.join(['{0:.4f}'.format(a) for a in z])\n",
    "with open('./hw3_p1b_allocations.txt', 'w+') as fh:\n",
    "    fh.write('{0}\\n'.format(allocation))"
   ]
  },
  {
   "cell_type": "code",
   "execution_count": 18,
   "metadata": {},
   "outputs": [
    {
     "data": {
      "text/plain": [
       "0    COH\n",
       "Name: 112, dtype: object"
      ]
     },
     "execution_count": 18,
     "metadata": {},
     "output_type": "execute_result"
    }
   ],
   "source": [
    "names[np.argmax(z)]"
   ]
  },
  {
   "cell_type": "code",
   "execution_count": 19,
   "metadata": {},
   "outputs": [
    {
     "data": {
      "text/plain": [
       "8.612060485915375"
      ]
     },
     "execution_count": 19,
     "metadata": {},
     "output_type": "execute_result"
    }
   ],
   "source": [
    "compute_earnings(z)"
   ]
  },
  {
   "cell_type": "markdown",
   "metadata": {},
   "source": [
    "## part c"
   ]
  },
  {
   "cell_type": "code",
   "execution_count": 20,
   "metadata": {},
   "outputs": [],
   "source": [
    "def gradient(grad, alloc, data):\n",
    "    return grad + data / np.matmul(alloc, data)"
   ]
  },
  {
   "cell_type": "code",
   "execution_count": 21,
   "metadata": {},
   "outputs": [],
   "source": [
    "def OGD(data, eta):\n",
    "    T, N = data.shape\n",
    "    data = data + 1\n",
    "    alloc = np.zeros((N, T))\n",
    "    alloc[:, 0] = 1 / N\n",
    "    grad = np.zeros((N, T)) \n",
    "    for i in range(1, T):\n",
    "        grad[:,i] = gradient(grad[:,i-1], alloc[:,i-1], data[i-1])\n",
    "        upd = alloc[:,i-1] + eta*grad[:,i]\n",
    "        alloc[:,i] = simplex_proj(upd)\n",
    "    return {'portfolio': alloc, 'gradient': grad}"
   ]
  },
  {
   "cell_type": "markdown",
   "metadata": {},
   "source": [
    "Trying different learning rates"
   ]
  },
  {
   "cell_type": "code",
   "execution_count": 22,
   "metadata": {},
   "outputs": [
    {
     "data": {
      "text/plain": [
       "6.912924959928768"
      ]
     },
     "execution_count": 22,
     "metadata": {},
     "output_type": "execute_result"
    }
   ],
   "source": [
    "portfolio = OGD(log_pc_change, 0.0005)\n",
    "compute_earnings(portfolio['portfolio'][:, -1])"
   ]
  },
  {
   "cell_type": "code",
   "execution_count": 23,
   "metadata": {},
   "outputs": [
    {
     "data": {
      "text/plain": [
       "8.093667713844395"
      ]
     },
     "execution_count": 23,
     "metadata": {},
     "output_type": "execute_result"
    }
   ],
   "source": [
    "portfolio = OGD(log_pc_change, 0.001)\n",
    "compute_earnings(portfolio['portfolio'][:, -1])"
   ]
  },
  {
   "cell_type": "code",
   "execution_count": 24,
   "metadata": {},
   "outputs": [
    {
     "data": {
      "text/plain": [
       "8.33487486827706"
      ]
     },
     "execution_count": 24,
     "metadata": {},
     "output_type": "execute_result"
    }
   ],
   "source": [
    "portfolio = OGD(log_pc_change, 0.01)\n",
    "compute_earnings(portfolio['portfolio'][:, -1])"
   ]
  },
  {
   "cell_type": "code",
   "execution_count": 25,
   "metadata": {},
   "outputs": [
    {
     "data": {
      "text/plain": [
       "8.429289751492883"
      ]
     },
     "execution_count": 25,
     "metadata": {},
     "output_type": "execute_result"
    }
   ],
   "source": [
    "portfolio = OGD(log_pc_change, 0.1) # **best return!\n",
    "compute_earnings(portfolio['portfolio'][:, -1])"
   ]
  },
  {
   "cell_type": "code",
   "execution_count": 26,
   "metadata": {},
   "outputs": [
    {
     "data": {
      "text/plain": [
       "8.169103539446795"
      ]
     },
     "execution_count": 26,
     "metadata": {},
     "output_type": "execute_result"
    }
   ],
   "source": [
    "portfolio = OGD(log_pc_change, 0.15)\n",
    "compute_earnings(portfolio['portfolio'][:, -1])"
   ]
  }
 ],
 "metadata": {
  "kernelspec": {
   "display_name": "Python [conda env:mbt-envj] *",
   "language": "python",
   "name": "conda-env-mbt-envj-py"
  },
  "language_info": {
   "codemirror_mode": {
    "name": "ipython",
    "version": 3
   },
   "file_extension": ".py",
   "mimetype": "text/x-python",
   "name": "python",
   "nbconvert_exporter": "python",
   "pygments_lexer": "ipython3",
   "version": "3.6.3"
  }
 },
 "nbformat": 4,
 "nbformat_minor": 2
}
